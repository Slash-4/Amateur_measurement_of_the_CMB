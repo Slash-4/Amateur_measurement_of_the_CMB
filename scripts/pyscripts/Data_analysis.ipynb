{
 "cells": [
  {
   "cell_type": "code",
   "execution_count": 1,
   "metadata": {},
   "outputs": [],
   "source": [
    "import spinmob as s\n",
    "import numpy as np\n",
    "import matplotlib.pyplot as plt\n",
    "import glob\n",
    "\n",
    "import polars as pl\n",
    "from scipy.special import factorial\n",
    "\n"
   ]
  },
  {
   "cell_type": "code",
   "execution_count": 2,
   "metadata": {},
   "outputs": [],
   "source": [
    "from rho_calibration_custom import gain_factor\n",
    "from T_sys_calibration_custom import Temp_system"
   ]
  },
  {
   "cell_type": "code",
   "execution_count": 3,
   "metadata": {},
   "outputs": [
    {
     "name": "stdout",
     "output_type": "stream",
     "text": [
      "  time_of_measurement          value  T_hot  T_cold\n",
      "0    2023-04-05T12:55  222883.368964    290     150\n",
      "  time_of_measurement       value  T_hot  T_cold\n",
      "0    2023-04-05T12:55  403.188798    290     150\n"
     ]
    },
    {
     "name": "stderr",
     "output_type": "stream",
     "text": [
      "libGL error: MESA-LOADER: failed to open iris: /usr/lib/dri/iris_dri.so: cannot open shared object file: No such file or directory (search paths /usr/lib/x86_64-linux-gnu/dri:\\$${ORIGIN}/dri:/usr/lib/dri, suffix _dri)\n",
      "libGL error: failed to load driver: iris\n",
      "libGL error: MESA-LOADER: failed to open iris: /usr/lib/dri/iris_dri.so: cannot open shared object file: No such file or directory (search paths /usr/lib/x86_64-linux-gnu/dri:\\$${ORIGIN}/dri:/usr/lib/dri, suffix _dri)\n",
      "libGL error: failed to load driver: iris\n",
      "libGL error: MESA-LOADER: failed to open swrast: /usr/lib/dri/swrast_dri.so: cannot open shared object file: No such file or directory (search paths /usr/lib/x86_64-linux-gnu/dri:\\$${ORIGIN}/dri:/usr/lib/dri, suffix _dri)\n",
      "libGL error: failed to load driver: swrast\n"
     ]
    },
    {
     "data": {
      "text/plain": [
       "[['/home/slash/Desktop/Phys 258/Phys_258_Final_Project/Amateur_measurement_of_the_CMB/data/day2_skydata1',\n",
       "  '/home/slash/Desktop/Phys 258/Phys_258_Final_Project/Amateur_measurement_of_the_CMB/data/day2_skydata2',\n",
       "  '/home/slash/Desktop/Phys 258/Phys_258_Final_Project/Amateur_measurement_of_the_CMB/data/day2_skydata4',\n",
       "  '/home/slash/Desktop/Phys 258/Phys_258_Final_Project/Amateur_measurement_of_the_CMB/data/day2_skydata5',\n",
       "  '/home/slash/Desktop/Phys 258/Phys_258_Final_Project/Amateur_measurement_of_the_CMB/data/day2_skydata6',\n",
       "  '/home/slash/Desktop/Phys 258/Phys_258_Final_Project/Amateur_measurement_of_the_CMB/data/day2_skydata7',\n",
       "  '/home/slash/Desktop/Phys 258/Phys_258_Final_Project/Amateur_measurement_of_the_CMB/data/day2_skydata8',\n",
       "  '/home/slash/Desktop/Phys 258/Phys_258_Final_Project/Amateur_measurement_of_the_CMB/data/day2_skydata9',\n",
       "  '/home/slash/Desktop/Phys 258/Phys_258_Final_Project/Amateur_measurement_of_the_CMB/data/day2_skydata10',\n",
       "  '/home/slash/Desktop/Phys 258/Phys_258_Final_Project/Amateur_measurement_of_the_CMB/data/day2_skydata11',\n",
       "  '/home/slash/Desktop/Phys 258/Phys_258_Final_Project/Amateur_measurement_of_the_CMB/data/day2_skydata12',\n",
       "  '/home/slash/Desktop/Phys 258/Phys_258_Final_Project/Amateur_measurement_of_the_CMB/data/day2_skydata13'],\n",
       " array([1.00018432, 1.00080625, 1.00550828, 1.00933856, 1.01736091,\n",
       "        1.02548394, 1.03527618, 1.06485584, 1.10337792, 1.1570394 ,\n",
       "        1.23763926, 1.32300775]),\n",
       " [681, 768, 656, 800, 715, 797, 666, 730, 761, 715, 800, 769],\n",
       " [-214.81956481933594,\n",
       "  -214.6068115234375,\n",
       "  -211.82244873046875,\n",
       "  -218.6304473876953,\n",
       "  -223.9281463623047,\n",
       "  -227.1719512939453,\n",
       "  -217.92295837402344,\n",
       "  -217.79002380371094,\n",
       "  -217.49876403808594,\n",
       "  -215.44375610351562,\n",
       "  -210.2158966064453,\n",
       "  -214.32077026367188],\n",
       " [2.160069465637207,\n",
       "  3.012266159057617,\n",
       "  2.184433937072754,\n",
       "  2.172619342803955,\n",
       "  0.4499551057815552,\n",
       "  0.6365947127342224,\n",
       "  1.2396458387374878,\n",
       "  3.790184736251831,\n",
       "  2.170722484588623,\n",
       "  2.0577585697174072,\n",
       "  2.3746426105499268,\n",
       "  2.10514497756958],\n",
       " 0.07591346946370033]"
      ]
     },
     "execution_count": 3,
     "metadata": {},
     "output_type": "execute_result"
    }
   ],
   "source": [
    "loadFile = lambda path, count: np.fromfile(open(path), dtype=np.float32, count=count)\n",
    "\n",
    "P_COLD_PATH = \"/home/slash/Desktop/Phys 258/Phys_258_Final_Project/Amateur_measurement_of_the_CMB/data/cold_load_foam1\"\n",
    "P_HOT_PATH = \"/home/slash/Desktop/Phys 258/Phys_258_Final_Project/Amateur_measurement_of_the_CMB/data/hot_load_foam1\"\n",
    "\n",
    "T_hot = 290\n",
    "T_cold = 150\n",
    "\n",
    "p_cold = loadFile(P_COLD_PATH, 800)\n",
    "p_hot = loadFile(P_HOT_PATH, 1000)\n",
    "\n",
    "G = gain_factor(T_hot, T_cold, p_hot, p_cold)\n",
    "T_sys = Temp_system(T_hot, T_cold, p_hot, p_cold)\n",
    "\n",
    "calibrate = lambda x: x*G - T_sys  \n",
    "\n",
    "angles = [\n",
    "    1.1,\n",
    "    2.3, \n",
    "    #4.0, \n",
    "    6.0, \n",
    "    7.8, \n",
    "    10.6,\n",
    "    12.8,\n",
    "    15.0,\n",
    "    20.1,\n",
    "    25.0,\n",
    "    30.2,\n",
    "    36.1,\n",
    "    40.9 \n",
    "]\n",
    "\n",
    "sec = lambda x: 1/np.cos(x)\n",
    "\n",
    "angles = np.array(angles)\n",
    "angles = np.radians(angles)\n",
    "angles = sec(angles)\n",
    "\n",
    "P_ANGLE_PATHS = [\n",
    "    \"/home/slash/Desktop/Phys 258/Phys_258_Final_Project/Amateur_measurement_of_the_CMB/data/day2_skydata1\",\n",
    "    \"/home/slash/Desktop/Phys 258/Phys_258_Final_Project/Amateur_measurement_of_the_CMB/data/day2_skydata2\",\n",
    "    #\"/home/slash/Desktop/Phys 258/Phys_258_Final_Project/Amateur_measurement_of_the_CMB/data/day2_skydata3\",\n",
    "    \"/home/slash/Desktop/Phys 258/Phys_258_Final_Project/Amateur_measurement_of_the_CMB/data/day2_skydata4\",\n",
    "    \"/home/slash/Desktop/Phys 258/Phys_258_Final_Project/Amateur_measurement_of_the_CMB/data/day2_skydata5\",\n",
    "    \"/home/slash/Desktop/Phys 258/Phys_258_Final_Project/Amateur_measurement_of_the_CMB/data/day2_skydata6\",\n",
    "    \"/home/slash/Desktop/Phys 258/Phys_258_Final_Project/Amateur_measurement_of_the_CMB/data/day2_skydata7\",\n",
    "    \"/home/slash/Desktop/Phys 258/Phys_258_Final_Project/Amateur_measurement_of_the_CMB/data/day2_skydata8\",\n",
    "    \"/home/slash/Desktop/Phys 258/Phys_258_Final_Project/Amateur_measurement_of_the_CMB/data/day2_skydata9\",\n",
    "    \"/home/slash/Desktop/Phys 258/Phys_258_Final_Project/Amateur_measurement_of_the_CMB/data/day2_skydata10\",\n",
    "    \"/home/slash/Desktop/Phys 258/Phys_258_Final_Project/Amateur_measurement_of_the_CMB/data/day2_skydata11\",\n",
    "    \"/home/slash/Desktop/Phys 258/Phys_258_Final_Project/Amateur_measurement_of_the_CMB/data/day2_skydata12\",\n",
    "    \"/home/slash/Desktop/Phys 258/Phys_258_Final_Project/Amateur_measurement_of_the_CMB/data/day2_skydata13\"\n",
    "]\n",
    "\n",
    "# df = [PATH, angle, size, mean, std, stderr]\n",
    "\n",
    "sizes = []\n",
    "means = []\n",
    "stds = []\n",
    "stderrs = []\n",
    "\n",
    "for angle,run in zip(angles, P_ANGLE_PATHS) :\n",
    "    data = loadFile(run, 800)\n",
    "    data = calibrate(data)\n",
    "\n",
    "    n = len(data)\n",
    "\n",
    "    mean = float(data.mean())\n",
    "    std = float(data.std())\n",
    "    stderr = std/np.sqrt(n)\n",
    "\n",
    "    sizes.append(n)\n",
    "    means.append(mean)\n",
    "    stds.append(std)\n",
    "    stderrs.append(stderr)\n",
    "    \n",
    "    plt.plot(data)\n",
    "\n",
    "df = [P_ANGLE_PATHS, angles, sizes, means, stds, stderr]\n",
    "df\n"
   ]
  },
  {
   "cell_type": "code",
   "execution_count": 4,
   "metadata": {},
   "outputs": [
    {
     "data": {
      "text/plain": [
       "\n",
       "FITTER SETTINGS\n",
       "  autoplot        True\n",
       "  coarsen         [1]\n",
       "  first_figure    0\n",
       "  fpoints         [1000]\n",
       "  plot_all_data   [False]\n",
       "  plot_bg         [True]\n",
       "  plot_errors     [True]\n",
       "  plot_fit        [True]\n",
       "  plot_guess      [True]\n",
       "  plot_guess_zoom [False]\n",
       "  scale_eydata    [1.0]\n",
       "  silent          False\n",
       "  style_bg        [{'marker': '', 'color': 'k', 'ls': '-'}]\n",
       "  style_data      [{'marker': 'o', 'color': 'b', 'ls': '', 'mec': 'b'}]\n",
       "  style_fit       [{'marker': '', 'color': 'r', 'ls': '-'}]\n",
       "  style_guess     [{'marker': '', 'color': '0.25', 'ls': '-'}]\n",
       "  subtract_bg     [False]\n",
       "  xlabel          [None]\n",
       "  xmax            [None]\n",
       "  xmin            [None]\n",
       "  xscale          ['linear']\n",
       "  ylabel          [None]\n",
       "  ymax            [None]\n",
       "  ymin            [None]\n",
       "  yscale          ['linear']\n",
       "\n",
       "INPUT PARAMETERS (reduced chi^2 = 113340498.72 +/- 0.45, 10.0 DOF)\n",
       "  m = 1, vary=True min=-INF max=INF expr=None\n",
       "  c = 1, vary=True min=-INF max=INF expr=None\n",
       "\n",
       "FIT RESULTS (reduced chi^2 = 452146.91 +/- 0.45, 10 DOF)\n",
       "  m = 175.57 +/- 0.22\n",
       "  c = 548.26 +/- 0.24"
      ]
     },
     "execution_count": 4,
     "metadata": {},
     "output_type": "execute_result"
    }
   ],
   "source": [
    "# df = [PATH, angle, size, mean, std, stderr]\n",
    "\n",
    "s.plot.xy.data(df[1], df[2], df[5], 0.0002, marker='o', linestyle='')\n",
    "\n",
    "f = s.data.fitter()\n",
    "f.set_functions('m*x+c', 'm,c')\n",
    "f.set_data(df[1], df[2], df[5])\n",
    "\n",
    "\n",
    "\n",
    "f.fit()"
   ]
  },
  {
   "cell_type": "code",
   "execution_count": 5,
   "metadata": {},
   "outputs": [],
   "source": [
    "# for xe, ye in zip(angles, power_raw):\n",
    "#     plt.scatter([xe] * len(ye), ye, color='b', marker='.')\n",
    "\n",
    "# plt.scatter(angles, power, color='orange')\n",
    "# plt.errorbar(angles, power, power_a, color='orange', linestyle='')"
   ]
  },
  {
   "cell_type": "code",
   "execution_count": 6,
   "metadata": {},
   "outputs": [
    {
     "ename": "NameError",
     "evalue": "name 'power' is not defined",
     "output_type": "error",
     "traceback": [
      "\u001b[0;31m---------------------------------------------------------------------------\u001b[0m",
      "\u001b[0;31mNameError\u001b[0m                                 Traceback (most recent call last)",
      "\u001b[0;32m/tmp/ipykernel_12823/3934167274.py\u001b[0m in \u001b[0;36m<module>\u001b[0;34m\u001b[0m\n\u001b[0;32m----> 1\u001b[0;31m \u001b[0ms\u001b[0m\u001b[0;34m.\u001b[0m\u001b[0mplot\u001b[0m\u001b[0;34m.\u001b[0m\u001b[0mxy\u001b[0m\u001b[0;34m.\u001b[0m\u001b[0mdata\u001b[0m\u001b[0;34m(\u001b[0m\u001b[0mangles\u001b[0m\u001b[0;34m,\u001b[0m \u001b[0mpower\u001b[0m\u001b[0;34m,\u001b[0m \u001b[0mmarker\u001b[0m\u001b[0;34m=\u001b[0m\u001b[0;34m'o'\u001b[0m\u001b[0;34m,\u001b[0m \u001b[0mlinestyle\u001b[0m\u001b[0;34m=\u001b[0m\u001b[0;34m''\u001b[0m\u001b[0;34m)\u001b[0m\u001b[0;34m\u001b[0m\u001b[0;34m\u001b[0m\u001b[0m\n\u001b[0m",
      "\u001b[0;31mNameError\u001b[0m: name 'power' is not defined"
     ]
    }
   ],
   "source": [
    "# s.plot.xy.data(angles, power, marker='o', linestyle='')\n"
   ]
  }
 ],
 "metadata": {
  "kernelspec": {
   "display_name": "phys258",
   "language": "python",
   "name": "python3"
  },
  "language_info": {
   "codemirror_mode": {
    "name": "ipython",
    "version": 3
   },
   "file_extension": ".py",
   "mimetype": "text/x-python",
   "name": "python",
   "nbconvert_exporter": "python",
   "pygments_lexer": "ipython3",
   "version": "3.9.15"
  },
  "orig_nbformat": 4,
  "vscode": {
   "interpreter": {
    "hash": "fad90dffc230b486852175c64c1d9a2ea4b9f514e080ff56ff16fbad881c98da"
   }
  }
 },
 "nbformat": 4,
 "nbformat_minor": 2
}
