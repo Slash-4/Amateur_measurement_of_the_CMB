{
 "cells": [
  {
   "cell_type": "code",
   "execution_count": 31,
   "metadata": {},
   "outputs": [],
   "source": [
    "import spinmob as s\n",
    "import numpy as np\n",
    "import matplotlib.pyplot as plt\n",
    "\n",
    "import polars as pl\n",
    "from scipy.special import factorial\n",
    "\n"
   ]
  },
  {
   "cell_type": "code",
   "execution_count": 2,
   "metadata": {},
   "outputs": [],
   "source": [
    "from rho_calibration_custom import gain_factor\n",
    "from T_sys_calibration_custom import Temp_system"
   ]
  },
  {
   "cell_type": "code",
   "execution_count": 32,
   "metadata": {},
   "outputs": [
    {
     "name": "stdout",
     "output_type": "stream",
     "text": [
      "  time_of_measurement          value  T_hot  T_cold\n",
      "0    2023-04-04T12:51 -284612.485187    276     150\n",
      "  time_of_measurement       value  T_hot  T_cold\n",
      "0    2023-04-04T12:51 -859.027052    276     150\n"
     ]
    },
    {
     "data": {
      "text/html": [
       "<div><style>\n",
       ".dataframe > thead > tr > th,\n",
       ".dataframe > tbody > tr > td {\n",
       "  text-align: right;\n",
       "}\n",
       "</style>\n",
       "<small>shape: (1000, 5)</small><table border=\"1\" class=\"dataframe\"><thead><tr><th>0</th><th>1</th><th>2</th><th>3</th><th>4</th></tr><tr><td>f32</td><td>f32</td><td>f32</td><td>f32</td><td>f32</td></tr></thead><tbody><tr><td>-274.448181</td><td>-285.321472</td><td>-277.5896</td><td>-285.773041</td><td>-290.647736</td></tr><tr><td>-274.563568</td><td>-285.203247</td><td>-277.379883</td><td>-285.632721</td><td>-290.922699</td></tr><tr><td>-274.054382</td><td>-284.86557</td><td>-277.379181</td><td>-285.804413</td><td>-290.973877</td></tr><tr><td>-274.124298</td><td>-284.588135</td><td>-277.632416</td><td>-285.932678</td><td>-291.056274</td></tr><tr><td>-273.848724</td><td>-284.552612</td><td>-277.621185</td><td>-286.150665</td><td>-291.242035</td></tr><tr><td>-273.499847</td><td>-284.480438</td><td>-277.372742</td><td>-286.054443</td><td>-291.230591</td></tr><tr><td>-273.319763</td><td>-284.483734</td><td>-277.437683</td><td>-286.151154</td><td>-291.051605</td></tr><tr><td>-273.399414</td><td>-284.453705</td><td>-277.512329</td><td>-285.649963</td><td>-290.527283</td></tr><tr><td>-273.665222</td><td>-284.24585</td><td>-277.485992</td><td>-285.789276</td><td>-290.735748</td></tr><tr><td>-273.716644</td><td>-283.966278</td><td>-277.570221</td><td>-285.641357</td><td>-290.848358</td></tr><tr><td>-273.990814</td><td>-283.761627</td><td>-277.662903</td><td>-286.031311</td><td>-290.203979</td></tr><tr><td>-273.722687</td><td>-283.962128</td><td>-277.378998</td><td>-285.837372</td><td>-290.303833</td></tr><tr><td>&hellip;</td><td>&hellip;</td><td>&hellip;</td><td>&hellip;</td><td>&hellip;</td></tr><tr><td>-271.683533</td><td>null</td><td>null</td><td>null</td><td>null</td></tr><tr><td>-271.48822</td><td>null</td><td>null</td><td>null</td><td>null</td></tr><tr><td>-271.271454</td><td>null</td><td>null</td><td>null</td><td>null</td></tr><tr><td>-271.338287</td><td>null</td><td>null</td><td>null</td><td>null</td></tr><tr><td>-270.950287</td><td>null</td><td>null</td><td>null</td><td>null</td></tr><tr><td>-271.046539</td><td>null</td><td>null</td><td>null</td><td>null</td></tr><tr><td>-271.182983</td><td>null</td><td>null</td><td>null</td><td>null</td></tr><tr><td>-271.179169</td><td>null</td><td>null</td><td>null</td><td>null</td></tr><tr><td>-271.256287</td><td>null</td><td>null</td><td>null</td><td>null</td></tr><tr><td>-271.056793</td><td>null</td><td>null</td><td>null</td><td>null</td></tr><tr><td>-271.202911</td><td>null</td><td>null</td><td>null</td><td>null</td></tr><tr><td>-271.306915</td><td>null</td><td>null</td><td>null</td><td>null</td></tr></tbody></table></div>"
      ],
      "text/plain": [
       "shape: (1000, 5)\n",
       "┌─────────────┬─────────────┬─────────────┬─────────────┬─────────────┐\n",
       "│ 0           ┆ 1           ┆ 2           ┆ 3           ┆ 4           │\n",
       "│ ---         ┆ ---         ┆ ---         ┆ ---         ┆ ---         │\n",
       "│ f32         ┆ f32         ┆ f32         ┆ f32         ┆ f32         │\n",
       "╞═════════════╪═════════════╪═════════════╪═════════════╪═════════════╡\n",
       "│ -274.448181 ┆ -285.321472 ┆ -277.5896   ┆ -285.773041 ┆ -290.647736 │\n",
       "│ -274.563568 ┆ -285.203247 ┆ -277.379883 ┆ -285.632721 ┆ -290.922699 │\n",
       "│ -274.054382 ┆ -284.86557  ┆ -277.379181 ┆ -285.804413 ┆ -290.973877 │\n",
       "│ -274.124298 ┆ -284.588135 ┆ -277.632416 ┆ -285.932678 ┆ -291.056274 │\n",
       "│ …           ┆ …           ┆ …           ┆ …           ┆ …           │\n",
       "│ -271.256287 ┆ null        ┆ null        ┆ null        ┆ null        │\n",
       "│ -271.056793 ┆ null        ┆ null        ┆ null        ┆ null        │\n",
       "│ -271.202911 ┆ null        ┆ null        ┆ null        ┆ null        │\n",
       "│ -271.306915 ┆ null        ┆ null        ┆ null        ┆ null        │\n",
       "└─────────────┴─────────────┴─────────────┴─────────────┴─────────────┘"
      ]
     },
     "execution_count": 32,
     "metadata": {},
     "output_type": "execute_result"
    }
   ],
   "source": [
    "P_COLD_PATH = \"/home/slash/Desktop/Phys 258/Phys_258_Final_Project/Amateur_measurement_of_the_CMB/data/day2_cold_load_cal2\"\n",
    "P_HOT_PATH = \"/home/slash/Desktop/Phys 258/Phys_258_Final_Project/Amateur_measurement_of_the_CMB/data/day2_hot_load_cal3\"\n",
    "\n",
    "T_hot = 276\n",
    "T_cold = 150\n",
    "\n",
    "p_cold = (np.fromfile(open(P_COLD_PATH), dtype=np.float32, count=1500))\n",
    "p_hot = np.fromfile(open(P_HOT_PATH), dtype=np.float32, count=800)\n",
    "\n",
    "\n",
    "G = gain_factor(T_hot, T_cold, p_hot, p_cold)\n",
    "T_sys = Temp_system(T_hot, T_cold, p_hot, p_cold)\n",
    "\n",
    "plt.plot(p_cold)\n",
    "plt.plot(p_hot)\n",
    "plt.show()\n",
    "\n",
    "\n",
    "angles = [\n",
    "    0.9,\n",
    "    10.0,\n",
    "    20.0,\n",
    "    29.5,\n",
    "    39.9 \n",
    "    \n",
    "]\n",
    "\n",
    "angles = np.array(angles)\n",
    "angles = np.radians(angles)\n",
    "\n",
    "sec = lambda x: 1/np.cos(x)\n",
    "\n",
    "angles = sec(angles)\n",
    "\n",
    "P_ANGLE_PATHS = [\n",
    "    \"/home/slash/Desktop/Phys 258/Phys_258_Final_Project/Amateur_measurement_of_the_CMB/data/sky_measurement_1\",\n",
    "    \"/home/slash/Desktop/Phys 258/Phys_258_Final_Project/Amateur_measurement_of_the_CMB/data/sky_measurement_2\",\n",
    "    \"/home/slash/Desktop/Phys 258/Phys_258_Final_Project/Amateur_measurement_of_the_CMB/data/sky_measurement_3\",\n",
    "    \"/home/slash/Desktop/Phys 258/Phys_258_Final_Project/Amateur_measurement_of_the_CMB/data/sky_measurement_4\",\n",
    "    \"/home/slash/Desktop/Phys 258/Phys_258_Final_Project/Amateur_measurement_of_the_CMB/data/sky_measurement_5\"\n",
    "    \n",
    "]\n",
    "\n",
    "# csv_path = \"../../../data/Sys_constants/T_atm.csv\"\n",
    "\n",
    "#loop over paths to average the power\n",
    "power = []\n",
    "power_std = []\n",
    "power_a = []\n",
    "\n",
    "power_raw = []\n",
    "\n",
    "for i, P_PATH in enumerate(P_ANGLE_PATHS):\n",
    "    power_file = G*np.fromfile(open(P_PATH), dtype=np.float32, count=1000)\n",
    "\n",
    "    # Remove constant\n",
    "   \n",
    "    power.append(power_file.mean())\n",
    "    power_std.append(power_file.std())\n",
    "    power_a.append(power_file.std()/np.sqrt(len(power_file)))\n",
    "\n",
    "\n",
    "\n",
    "    power_raw.append(power_file)\n",
    "\n",
    "dfs = []\n",
    "i = 0\n",
    "for run in power_raw:\n",
    "\tdfs.append(pl.from_numpy(run, schema=str(i)))\n",
    "\ti += 1\n",
    "\n",
    "df = pl.concat(dfs, how=\"horizontal\")\n",
    "df"
   ]
  },
  {
   "cell_type": "code",
   "execution_count": 33,
   "metadata": {},
   "outputs": [],
   "source": [
    "colors = ['r','g','b','yellow', 'orange']\n",
    "for run, color in zip(power_raw, colors):\n",
    "\tplt.plot(run, color=color)\n"
   ]
  },
  {
   "cell_type": "code",
   "execution_count": 6,
   "metadata": {},
   "outputs": [
    {
     "name": "stdout",
     "output_type": "stream",
     "text": [
      "shape: (1, 5)\n",
      "┌────────────┬────────────┬────────────┬────────────┬────────────┐\n",
      "│ 0          ┆ 1          ┆ 2          ┆ 3          ┆ 4          │\n",
      "│ ---        ┆ ---        ┆ ---        ┆ ---        ┆ ---        │\n",
      "│ f32        ┆ f32        ┆ f32        ┆ f32        ┆ f32        │\n",
      "╞════════════╪════════════╪════════════╪════════════╪════════════╡\n",
      "│ 151.621628 ┆ 153.825577 ┆ 153.472946 ┆ 158.936737 ┆ 163.554306 │\n",
      "└────────────┴────────────┴────────────┴────────────┴────────────┘\n",
      "shape: (1, 5)\n",
      "┌──────────┬──────────┬──────────┬──────────┬──────────┐\n",
      "│ 0        ┆ 1        ┆ 2        ┆ 3        ┆ 4        │\n",
      "│ ---      ┆ ---      ┆ ---      ┆ ---      ┆ ---      │\n",
      "│ f32      ┆ f32      ┆ f32      ┆ f32      ┆ f32      │\n",
      "╞══════════╪══════════╪══════════╪══════════╪══════════╡\n",
      "│ 1.964303 ┆ 2.236639 ┆ 0.549704 ┆ 0.256996 ┆ 1.681453 │\n",
      "└──────────┴──────────┴──────────┴──────────┴──────────┘\n",
      "shape: (1, 5)\n",
      "┌──────────┬──────────┬──────────┬──────────┬──────────┐\n",
      "│ 0        ┆ 1        ┆ 2        ┆ 3        ┆ 4        │\n",
      "│ ---      ┆ ---      ┆ ---      ┆ ---      ┆ ---      │\n",
      "│ f64      ┆ f64      ┆ f64      ┆ f64      ┆ f64      │\n",
      "╞══════════╪══════════╪══════════╪══════════╪══════════╡\n",
      "│ 0.002319 ┆ 0.003728 ┆ 0.001122 ┆ 0.000326 ┆ 0.002175 │\n",
      "└──────────┴──────────┴──────────┴──────────┴──────────┘\n"
     ]
    }
   ],
   "source": [
    "means = []\n",
    "stds = []\n",
    "stderrs = []\n",
    "for i in range(5):\n",
    "\n",
    "\tout = df.select(\n",
    "\t\t[\n",
    "\t\t\tpl.col(str(i)).filter(pl.col(str(i)) < 200)\n",
    "\n",
    "\t\t]\n",
    "\t)\n",
    "\n",
    "\tn = df.select(\n",
    "\t\t[\n",
    "\t\t\tpl.col(str(i)).filter(pl.col(str(i)) < 200).count()\n",
    "\n",
    "\t\t]\n",
    "\t)\n",
    "\n",
    "\t# out = df.select(\n",
    "\t# \t[\n",
    "\t# \t\tpl.when(pl.col(\"0\") > 100).then(0).otherwise(pl.col(\"0\"))\n",
    "\t# \t]\n",
    "\t# )\n",
    "\n",
    "\tplt.plot(out)\n",
    "\tmeans.append(out.mean())\n",
    "\tstds.append(out.std())\n",
    "\tstderrs.append(out.std()/n)\n",
    "\t# print(out)\n",
    "\n",
    "\n",
    "means = pl.concat(means, how=\"horizontal\")\n",
    "stds = pl.concat(stds, how=\"horizontal\")\n",
    "stderrs = pl.concat(stderrs, how=\"horizontal\")\n",
    "\n",
    "print(means)\n",
    "print(stds)\n",
    "print(stderrs)\n"
   ]
  },
  {
   "cell_type": "code",
   "execution_count": 7,
   "metadata": {},
   "outputs": [
    {
     "name": "stdout",
     "output_type": "stream",
     "text": [
      "[1.00012338 1.01542661 1.06417777 1.14895554 1.30350029]\n"
     ]
    },
    {
     "data": {
      "text/plain": [
       "\n",
       "FITTER SETTINGS\n",
       "  autoplot        True\n",
       "  coarsen         [1]\n",
       "  first_figure    0\n",
       "  fpoints         [1000]\n",
       "  plot_all_data   [False]\n",
       "  plot_bg         [True]\n",
       "  plot_errors     [True]\n",
       "  plot_fit        [True]\n",
       "  plot_guess      [True]\n",
       "  plot_guess_zoom [False]\n",
       "  scale_eydata    [1.0]\n",
       "  silent          False\n",
       "  style_bg        [{'marker': '', 'color': 'k', 'ls': '-'}]\n",
       "  style_data      [{'marker': 'o', 'color': 'b', 'ls': '', 'mec': 'b'}]\n",
       "  style_fit       [{'marker': '', 'color': 'r', 'ls': '-'}]\n",
       "  style_guess     [{'marker': '', 'color': '0.25', 'ls': '-'}]\n",
       "  subtract_bg     [False]\n",
       "  xlabel          [None]\n",
       "  xmax            [None]\n",
       "  xmin            [None]\n",
       "  xscale          ['linear']\n",
       "  ylabel          [None]\n",
       "  ymax            [None]\n",
       "  ymin            [None]\n",
       "  yscale          ['linear']\n",
       "\n",
       "INPUT PARAMETERS (reduced chi^2 = 27844.36 +/- 0.82, 3.0 DOF)\n",
       "  m = 1, vary=True min=-INF max=INF expr=None\n",
       "  c = 1, vary=True min=-INF max=INF expr=None\n",
       "\n",
       "FIT RESULTS (reduced chi^2 = 0.92 +/- 0.82, 3 DOF)\n",
       "  m = 38.4 +/- 4.8\n",
       "  c = 113.8 +/- 5.3\n",
       "\n",
       "WARNING: eydata was not specified for at least one data set."
      ]
     },
     "execution_count": 7,
     "metadata": {},
     "output_type": "execute_result"
    }
   ],
   "source": [
    "f = s.data.fitter()\n",
    "f.set_functions('m*x+c', 'm,c')\n",
    "print(angles)\n",
    "f.set_data(angles, means.to_numpy())\n",
    "\n",
    "f.fit()"
   ]
  },
  {
   "cell_type": "code",
   "execution_count": null,
   "metadata": {},
   "outputs": [
    {
     "data": {
      "text/plain": [
       "<ErrorbarContainer object of 3 artists>"
      ]
     },
     "execution_count": 18,
     "metadata": {},
     "output_type": "execute_result"
    }
   ],
   "source": [
    "for xe, ye in zip(angles, power_raw):\n",
    "    plt.scatter([xe] * len(ye), ye, color='b', marker='.')\n",
    "\n",
    "plt.scatter(angles, power, color='orange')\n",
    "plt.errorbar(angles, power, power_a, color='orange', linestyle='')"
   ]
  },
  {
   "cell_type": "code",
   "execution_count": null,
   "metadata": {},
   "outputs": [
    {
     "data": {
      "text/plain": [
       "<AxesSubplot: title={'center': \"\\nPlot created Sat Apr  1 12:37:07 2023\\ns.plot.xy.data(angles, power, marker='o', linestyle='')\"}>"
      ]
     },
     "execution_count": 19,
     "metadata": {},
     "output_type": "execute_result"
    }
   ],
   "source": [
    "s.plot.xy.data(angles, power, marker='o', linestyle='')\n"
   ]
  }
 ],
 "metadata": {
  "kernelspec": {
   "display_name": "phys258",
   "language": "python",
   "name": "python3"
  },
  "language_info": {
   "codemirror_mode": {
    "name": "ipython",
    "version": 3
   },
   "file_extension": ".py",
   "mimetype": "text/x-python",
   "name": "python",
   "nbconvert_exporter": "python",
   "pygments_lexer": "ipython3",
   "version": "3.9.15"
  },
  "orig_nbformat": 4,
  "vscode": {
   "interpreter": {
    "hash": "fad90dffc230b486852175c64c1d9a2ea4b9f514e080ff56ff16fbad881c98da"
   }
  }
 },
 "nbformat": 4,
 "nbformat_minor": 2
}
